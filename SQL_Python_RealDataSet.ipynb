{
  "nbformat": 4,
  "nbformat_minor": 0,
  "metadata": {
    "colab": {
      "provenance": [],
      "authorship_tag": "ABX9TyMyW+Qj36D82KeSIt1Z2NcA",
      "include_colab_link": true
    },
    "kernelspec": {
      "name": "python3",
      "display_name": "Python 3"
    },
    "language_info": {
      "name": "python"
    }
  },
  "cells": [
    {
      "cell_type": "markdown",
      "metadata": {
        "id": "view-in-github",
        "colab_type": "text"
      },
      "source": [
        "<a href=\"https://colab.research.google.com/github/engrdoc/JDA-Projects/blob/main/SQL_Python_RealDataSet.ipynb\" target=\"_parent\"><img src=\"https://colab.research.google.com/assets/colab-badge.svg\" alt=\"Open In Colab\"/></a>"
      ]
    },
    {
      "cell_type": "code",
      "execution_count": null,
      "metadata": {
        "id": "FxdJJk13U_N5"
      },
      "outputs": [],
      "source": [
        "'''\n",
        "Selected Socioeconomic Indicators in Chicago\n",
        "The city of Chicago released a dataset of socioeconomic data to the Chicago City Portal. \n",
        "This dataset contains a selection of six socioeconomic indicators of public health significance and a “hardship index,” for each Chicago community area, for the years 2008 – 2012.\n",
        "Scores on the hardship index can range from 1 to 100, with a higher index number representing a greater level of hardship.\n",
        "\n",
        "A detailed description of the dataset can be found on the city of Chicago's website, but to summarize, the dataset has the following variables:\n",
        "\n",
        "Community Area Number (ca): Used to uniquely identify each row of the dataset\n",
        "Community Area Name (community_area_name): The name of the region in the city of Chicago\n",
        "Percent of Housing Crowded (percent_of_housing_crowded): Percent of occupied housing units with more than one person per room\n",
        "Percent Households Below Poverty (percent_households_below_poverty): Percent of households living below the federal poverty line\n",
        "Percent Aged 16+ Unemployed (percent_aged_16_unemployed): Percent of persons over the age of 16 years that are unemployed\n",
        "Percent Aged 25+ without High School Diploma (percent_aged_25_without_high_school_diploma): Percent of persons over the age of 25 years without a high school education\n",
        "Percent Aged Under 18 or Over 64:Percent of population under 18 or over 64 years of age (percent_aged_under_18_or_over_64): (ie. dependents)\n",
        "Per Capita Income (per_capita_income_): Community Area per capita income is estimated as the sum of tract-level aggragate incomes divided by the total population\n",
        "Hardship Index (hardship_index): Score that incorporates each of the six selected socioeconomic indicators\n",
        "\n",
        "In this Lab, we'll take a look at the variables in the socioeconomic indicators dataset and do some basic analysis with Python.\n",
        "'''"
      ]
    },
    {
      "cell_type": "code",
      "source": [
        "'''\n",
        "Connect to the database\n",
        "Let us first load the SQL extension and establish a connection with the database\n",
        "The following required modules are pre-installed in the Skills Network Labs environment. \n",
        "However if you run this notebook commands in a different Jupyter environment (e.g. Watson Studio or Ananconda) \n",
        "you may need to install these libraries by removing the # sign before !pip in the code cell below.\n",
        "'''"
      ],
      "metadata": {
        "id": "WoS5bBtvWbYY"
      },
      "execution_count": null,
      "outputs": []
    },
    {
      "cell_type": "code",
      "source": [
        "# These libraries are pre-installed in SN Labs. If running in another environment please uncomment lines below to install them:\n",
        "# !pip install --force-reinstall ibm_db==3.1.0 ibm_db_sa==0.3.3\n",
        "# Ensure we don't load_ext with sqlalchemy>=1.4 (incompadible)\n",
        "# !pip uninstall sqlalchemy==1.4 -y && pip install sqlalchemy==1.3.24\n",
        "# !pip install ipython-sql"
      ],
      "metadata": {
        "id": "Y6G4snXcWgL0"
      },
      "execution_count": null,
      "outputs": []
    },
    {
      "cell_type": "code",
      "source": [
        "%load_ext sql"
      ],
      "metadata": {
        "id": "DSQuLnuVY58L"
      },
      "execution_count": null,
      "outputs": []
    },
    {
      "cell_type": "code",
      "source": [
        "#using Virali's code\n",
        "%sql sqlite:///socioeconomic.db"
      ],
      "metadata": {
        "colab": {
          "base_uri": "https://localhost:8080/",
          "height": 36
        },
        "id": "0SGU5exEZDs4",
        "outputId": "dda8246c-c2cc-4791-ae43-3815246bd4da"
      },
      "execution_count": null,
      "outputs": [
        {
          "output_type": "execute_result",
          "data": {
            "text/plain": [
              "'Connected: @socioeconomic.db'"
            ],
            "application/vnd.google.colaboratory.intrinsic+json": {
              "type": "string"
            }
          },
          "metadata": {},
          "execution_count": 5
        }
      ]
    },
    {
      "cell_type": "code",
      "source": [
        "'''\n",
        "Store the dataset in a Table\n",
        "In many cases the dataset to be analyzed is available as a .CSV (comma separated values) file, perhaps on the internet. \n",
        "To analyze the data using SQL, it first needs to be stored in the database.\n",
        "We will first read the dataset source .CSV from the internet into pandas dataframe\n",
        "Then we need to create a table in our Db2 database to store the dataset. \n",
        "'''\n",
        "#The PERSIST command in SQL \"magic\" simplifies the process of table creation and writing the data from a pandas dataframe into the table"
      ],
      "metadata": {
        "id": "0wlS4A5_Zdh1"
      },
      "execution_count": null,
      "outputs": []
    },
    {
      "cell_type": "code",
      "source": [
        "import pandas \n",
        "chicago_socioeconomic_data = pandas.read_csv('https://data.cityofchicago.org/resource/jcxq-k9xf.csv')\n",
        "%sql PERSIST chicago_socioeconomic_data"
      ],
      "metadata": {
        "id": "GeoGtSE0ZoZX"
      },
      "execution_count": null,
      "outputs": []
    },
    {
      "cell_type": "code",
      "source": [
        "chicago_socioeconomic_data.shape"
      ],
      "metadata": {
        "colab": {
          "base_uri": "https://localhost:8080/"
        },
        "id": "TqMWVg6GcB97",
        "outputId": "2ef5654e-6a1a-4cc6-b5c2-7520ff3ac577"
      },
      "execution_count": null,
      "outputs": [
        {
          "output_type": "execute_result",
          "data": {
            "text/plain": [
              "(78, 9)"
            ]
          },
          "metadata": {},
          "execution_count": 13
        }
      ]
    },
    {
      "cell_type": "code",
      "source": [
        "%%sql SELECT * \n",
        "      FROM chicago_socioeconomic_data;"
      ],
      "metadata": {
        "id": "3_iRQgntbowb"
      },
      "execution_count": null,
      "outputs": []
    },
    {
      "cell_type": "code",
      "source": [
        "#Q1: How many rows are in the dataset?\n",
        "%sql SELECT COUNT(*) FROM chicago_socioeconomic_data;"
      ],
      "metadata": {
        "colab": {
          "base_uri": "https://localhost:8080/",
          "height": 96
        },
        "id": "l_G0_l56aiq8",
        "outputId": "32cc5ae0-e0cf-46a1-ef68-9e1eefc472ee"
      },
      "execution_count": null,
      "outputs": [
        {
          "output_type": "stream",
          "name": "stdout",
          "text": [
            " * sqlite:///socioeconomic.db\n",
            "Done.\n"
          ]
        },
        {
          "output_type": "execute_result",
          "data": {
            "text/plain": [
              "[(78,)]"
            ],
            "text/html": [
              "<table>\n",
              "    <thead>\n",
              "        <tr>\n",
              "            <th>COUNT(*)</th>\n",
              "        </tr>\n",
              "    </thead>\n",
              "    <tbody>\n",
              "        <tr>\n",
              "            <td>78</td>\n",
              "        </tr>\n",
              "    </tbody>\n",
              "</table>"
            ]
          },
          "metadata": {},
          "execution_count": 9
        }
      ]
    },
    {
      "cell_type": "code",
      "source": [
        "#Q2:How many community areas in Chicago have a hardship index greater than 50.0? '''AS H.I._>_50'''\n",
        "%sql SELECT COUNT(ca) AS 'H.I._>_50' FROM chicago_socioeconomic_data WHERE hardship_index > 50.0;"
      ],
      "metadata": {
        "colab": {
          "base_uri": "https://localhost:8080/",
          "height": 96
        },
        "id": "gfPyOTzPbhSy",
        "outputId": "7c563349-a3d2-4943-a9e3-ce6d010e72ab"
      },
      "execution_count": null,
      "outputs": [
        {
          "output_type": "stream",
          "name": "stdout",
          "text": [
            " * sqlite:///socioeconomic.db\n",
            "Done.\n"
          ]
        },
        {
          "output_type": "execute_result",
          "data": {
            "text/plain": [
              "[(38,)]"
            ],
            "text/html": [
              "<table>\n",
              "    <thead>\n",
              "        <tr>\n",
              "            <th>H.I._&gt;_50</th>\n",
              "        </tr>\n",
              "    </thead>\n",
              "    <tbody>\n",
              "        <tr>\n",
              "            <td>38</td>\n",
              "        </tr>\n",
              "    </tbody>\n",
              "</table>"
            ]
          },
          "metadata": {},
          "execution_count": 22
        }
      ]
    },
    {
      "cell_type": "code",
      "source": [
        "#Q3: What is the maximum value of hardship index in this dataset?\n",
        "%%sql SELECT MAX(hardship_index) AS 'MAX_H.I.'\n",
        "      FROM chicago_socioeconomic_data;"
      ],
      "metadata": {
        "colab": {
          "base_uri": "https://localhost:8080/",
          "height": 96
        },
        "id": "2WhfGbEAeLgL",
        "outputId": "618f1db1-61bb-4e3b-8ea7-8cbf8a8c6a69"
      },
      "execution_count": null,
      "outputs": [
        {
          "output_type": "stream",
          "name": "stdout",
          "text": [
            " * sqlite:///socioeconomic.db\n",
            "Done.\n"
          ]
        },
        {
          "output_type": "execute_result",
          "data": {
            "text/plain": [
              "[(98.0,)]"
            ],
            "text/html": [
              "<table>\n",
              "    <thead>\n",
              "        <tr>\n",
              "            <th>MAX_H.I.</th>\n",
              "        </tr>\n",
              "    </thead>\n",
              "    <tbody>\n",
              "        <tr>\n",
              "            <td>98.0</td>\n",
              "        </tr>\n",
              "    </tbody>\n",
              "</table>"
            ]
          },
          "metadata": {},
          "execution_count": 27
        }
      ]
    },
    {
      "cell_type": "code",
      "source": [
        "#Q4: Which community area has the highest hardship index?\n",
        "%%sql SELECT ca, community_area_name, MAX(hardship_index) AS 'MAX_H.I.'\n",
        "      FROM chicago_socioeconomic_data;"
      ],
      "metadata": {
        "colab": {
          "base_uri": "https://localhost:8080/",
          "height": 96
        },
        "id": "ok_dXpzAf2VM",
        "outputId": "edf0afbd-76ed-4393-e3fc-332c5b8b7672"
      },
      "execution_count": null,
      "outputs": [
        {
          "output_type": "stream",
          "name": "stdout",
          "text": [
            " * sqlite:///socioeconomic.db\n",
            "Done.\n"
          ]
        },
        {
          "output_type": "execute_result",
          "data": {
            "text/plain": [
              "[(54.0, 'Riverdale', 98.0)]"
            ],
            "text/html": [
              "<table>\n",
              "    <thead>\n",
              "        <tr>\n",
              "            <th>ca</th>\n",
              "            <th>community_area_name</th>\n",
              "            <th>MAX_H.I.</th>\n",
              "        </tr>\n",
              "    </thead>\n",
              "    <tbody>\n",
              "        <tr>\n",
              "            <td>54.0</td>\n",
              "            <td>Riverdale</td>\n",
              "            <td>98.0</td>\n",
              "        </tr>\n",
              "    </tbody>\n",
              "</table>"
            ]
          },
          "metadata": {},
          "execution_count": 29
        }
      ]
    },
    {
      "cell_type": "code",
      "source": [
        "%sql SELECT community_area_name FROM chicago_socioeconomic_data WHERE hardship_index = 98.0;"
      ],
      "metadata": {
        "colab": {
          "base_uri": "https://localhost:8080/",
          "height": 96
        },
        "id": "eLrO9zpmhA0D",
        "outputId": "7f7534fe-df40-4b00-9fdc-70eb68064faf"
      },
      "execution_count": null,
      "outputs": [
        {
          "output_type": "stream",
          "name": "stdout",
          "text": [
            " * sqlite:///socioeconomic.db\n",
            "Done.\n"
          ]
        },
        {
          "output_type": "execute_result",
          "data": {
            "text/plain": [
              "[('Riverdale',)]"
            ],
            "text/html": [
              "<table>\n",
              "    <thead>\n",
              "        <tr>\n",
              "            <th>community_area_name</th>\n",
              "        </tr>\n",
              "    </thead>\n",
              "    <tbody>\n",
              "        <tr>\n",
              "            <td>Riverdale</td>\n",
              "        </tr>\n",
              "    </tbody>\n",
              "</table>"
            ]
          },
          "metadata": {},
          "execution_count": 31
        }
      ]
    },
    {
      "cell_type": "code",
      "source": [
        "#or another option:\n",
        "%sql SELECT community_area_name FROM chicago_socioeconomic_data ORDER BY hardship_index DESC NULLS LAST FETCH FIRST ROW ONLY;"
      ],
      "metadata": {
        "colab": {
          "base_uri": "https://localhost:8080/"
        },
        "id": "tY8QOgeEg56H",
        "outputId": "1c512fa4-e548-40c5-ed41-6565d5aec9e4"
      },
      "execution_count": null,
      "outputs": [
        {
          "output_type": "stream",
          "name": "stdout",
          "text": [
            " * sqlite:///socioeconomic.db\n",
            "(sqlite3.OperationalError) near \"NULLS\": syntax error\n",
            "[SQL: SELECT community_area_name FROM chicago_socioeconomic_data ORDER BY hardship_index DESC NULLS LAST FETCH FIRST ROW ONLY;]\n",
            "(Background on this error at: https://sqlalche.me/e/14/e3q8)\n"
          ]
        }
      ]
    },
    {
      "cell_type": "code",
      "source": [
        "#or you can use a sub-query to determine the max hardship index:\n",
        "%sql select community_area_name from chicago_socioeconomic_data where hardship_index = ( select max(hardship_index) from chicago_socioeconomic_data )"
      ],
      "metadata": {
        "colab": {
          "base_uri": "https://localhost:8080/",
          "height": 96
        },
        "id": "z0zjCCZJhGKd",
        "outputId": "34a76be2-d731-4e3d-a0fb-841ff06ea7bf"
      },
      "execution_count": null,
      "outputs": [
        {
          "output_type": "stream",
          "name": "stdout",
          "text": [
            " * sqlite:///socioeconomic.db\n",
            "Done.\n"
          ]
        },
        {
          "output_type": "execute_result",
          "data": {
            "text/plain": [
              "[('Riverdale',)]"
            ],
            "text/html": [
              "<table>\n",
              "    <thead>\n",
              "        <tr>\n",
              "            <th>community_area_name</th>\n",
              "        </tr>\n",
              "    </thead>\n",
              "    <tbody>\n",
              "        <tr>\n",
              "            <td>Riverdale</td>\n",
              "        </tr>\n",
              "    </tbody>\n",
              "</table>"
            ]
          },
          "metadata": {},
          "execution_count": 33
        }
      ]
    },
    {
      "cell_type": "code",
      "source": [
        "#Q5: Which Chicago community areas have per-capita incomes greater than $60,000?\n",
        "%sql SELECT community_area_name, per_capita_income_ FROM chicago_socioeconomic_data WHERE per_capita_income_ > 60000 ORDER BY per_capita_income_ DESC;"
      ],
      "metadata": {
        "colab": {
          "base_uri": "https://localhost:8080/",
          "height": 157
        },
        "id": "0jvLQhVAhOIE",
        "outputId": "340ab77f-1622-4b53-bf5c-589385769dc7"
      },
      "execution_count": null,
      "outputs": [
        {
          "output_type": "stream",
          "name": "stdout",
          "text": [
            " * sqlite:///socioeconomic.db\n",
            "Done.\n"
          ]
        },
        {
          "output_type": "execute_result",
          "data": {
            "text/plain": [
              "[('Near North Side', 88669),\n",
              " ('Lincoln Park', 71551),\n",
              " ('Loop', 65526),\n",
              " ('Lake View', 60058)]"
            ],
            "text/html": [
              "<table>\n",
              "    <thead>\n",
              "        <tr>\n",
              "            <th>community_area_name</th>\n",
              "            <th>per_capita_income_</th>\n",
              "        </tr>\n",
              "    </thead>\n",
              "    <tbody>\n",
              "        <tr>\n",
              "            <td>Near North Side</td>\n",
              "            <td>88669</td>\n",
              "        </tr>\n",
              "        <tr>\n",
              "            <td>Lincoln Park</td>\n",
              "            <td>71551</td>\n",
              "        </tr>\n",
              "        <tr>\n",
              "            <td>Loop</td>\n",
              "            <td>65526</td>\n",
              "        </tr>\n",
              "        <tr>\n",
              "            <td>Lake View</td>\n",
              "            <td>60058</td>\n",
              "        </tr>\n",
              "    </tbody>\n",
              "</table>"
            ]
          },
          "metadata": {},
          "execution_count": 39
        }
      ]
    },
    {
      "cell_type": "code",
      "source": [
        "#Q6: Create a scatter plot using the variables per_capita_income_ and hardship_index. Explain the correlation between the two variables.\n",
        "\n",
        "import matplotlib.pyplot as plt\n",
        "%matplotlib inline\n",
        "import seaborn as sns"
      ],
      "metadata": {
        "id": "B-wjFdHXiAS8"
      },
      "execution_count": null,
      "outputs": []
    },
    {
      "cell_type": "code",
      "source": [
        "income_vs_hardship = %sql SELECT per_capita_income_, hardship_index FROM chicago_socioeconomic_data;\n",
        "income_vs_hardship"
      ],
      "metadata": {
        "colab": {
          "base_uri": "https://localhost:8080/",
          "height": 1000
        },
        "id": "2CdMzGiOiWUM",
        "outputId": "0f2e947b-df23-4dec-f7b3-4b573f332f02"
      },
      "execution_count": null,
      "outputs": [
        {
          "output_type": "stream",
          "name": "stdout",
          "text": [
            " * sqlite:///socioeconomic.db\n",
            "Done.\n"
          ]
        },
        {
          "output_type": "execute_result",
          "data": {
            "text/plain": [
              "[(23939, 39.0),\n",
              " (23040, 46.0),\n",
              " (35787, 20.0),\n",
              " (37524, 17.0),\n",
              " (57123, 6.0),\n",
              " (60058, 5.0),\n",
              " (71551, 2.0),\n",
              " (88669, 1.0),\n",
              " (40959, 8.0),\n",
              " (32875, 21.0),\n",
              " (27751, 25.0),\n",
              " (44164, 11.0),\n",
              " (26576, 33.0),\n",
              " (21323, 53.0),\n",
              " (24336, 35.0),\n",
              " (27249, 34.0),\n",
              " (26282, 28.0),\n",
              " (22014, 50.0),\n",
              " (15461, 70.0),\n",
              " (15089, 71.0),\n",
              " (20039, 42.0),\n",
              " (31908, 23.0),\n",
              " (13781, 85.0),\n",
              " (43198, 10.0),\n",
              " (15957, 73.0),\n",
              " (10934, 92.0),\n",
              " (12961, 83.0),\n",
              " (44689, 15.0),\n",
              " (12034, 87.0),\n",
              " (10402, 96.0),\n",
              " (16444, 76.0),\n",
              " (65526, 3.0),\n",
              " (59077, 7.0),\n",
              " (16148, 82.0),\n",
              " (23791, 47.0),\n",
              " (19252, 78.0),\n",
              " (10432, 97.0),\n",
              " (23472, 57.0),\n",
              " (35911, 26.0),\n",
              " (13785, 88.0),\n",
              " (39056, 14.0),\n",
              " (18672, 58.0),\n",
              " (19398, 55.0),\n",
              " (18881, 60.0),\n",
              " (24454, 41.0),\n",
              " (16579, 75.0),\n",
              " (12515, 79.0),\n",
              " (28887, 38.0),\n",
              " (17949, 52.0),\n",
              " (20588, 51.0),\n",
              " (14685, 65.0),\n",
              " (17104, 64.0),\n",
              " (16563, 62.0),\n",
              " (8201, 98.0),\n",
              " (22677, 44.0),\n",
              " (26353, 32.0),\n",
              " (16134, 67.0),\n",
              " (13089, 84.0),\n",
              " (16954, 61.0),\n",
              " (22694, 43.0),\n",
              " (12765, 91.0),\n",
              " (15754, 69.0),\n",
              " (12171, 93.0),\n",
              " (25113, 29.0),\n",
              " (16907, 56.0),\n",
              " (13231, 80.0),\n",
              " (11317, 89.0),\n",
              " (11888, 94.0),\n",
              " (17285, 66.0),\n",
              " (23482, 37.0),\n",
              " (15528, 74.0),\n",
              " (39523, 12.0),\n",
              " (19713, 48.0),\n",
              " (34381, 16.0),\n",
              " (27149, 30.0),\n",
              " (25828, 24.0),\n",
              " (33385, 19.0),\n",
              " (28202, None)]"
            ],
            "text/html": [
              "<table>\n",
              "    <thead>\n",
              "        <tr>\n",
              "            <th>per_capita_income_</th>\n",
              "            <th>hardship_index</th>\n",
              "        </tr>\n",
              "    </thead>\n",
              "    <tbody>\n",
              "        <tr>\n",
              "            <td>23939</td>\n",
              "            <td>39.0</td>\n",
              "        </tr>\n",
              "        <tr>\n",
              "            <td>23040</td>\n",
              "            <td>46.0</td>\n",
              "        </tr>\n",
              "        <tr>\n",
              "            <td>35787</td>\n",
              "            <td>20.0</td>\n",
              "        </tr>\n",
              "        <tr>\n",
              "            <td>37524</td>\n",
              "            <td>17.0</td>\n",
              "        </tr>\n",
              "        <tr>\n",
              "            <td>57123</td>\n",
              "            <td>6.0</td>\n",
              "        </tr>\n",
              "        <tr>\n",
              "            <td>60058</td>\n",
              "            <td>5.0</td>\n",
              "        </tr>\n",
              "        <tr>\n",
              "            <td>71551</td>\n",
              "            <td>2.0</td>\n",
              "        </tr>\n",
              "        <tr>\n",
              "            <td>88669</td>\n",
              "            <td>1.0</td>\n",
              "        </tr>\n",
              "        <tr>\n",
              "            <td>40959</td>\n",
              "            <td>8.0</td>\n",
              "        </tr>\n",
              "        <tr>\n",
              "            <td>32875</td>\n",
              "            <td>21.0</td>\n",
              "        </tr>\n",
              "        <tr>\n",
              "            <td>27751</td>\n",
              "            <td>25.0</td>\n",
              "        </tr>\n",
              "        <tr>\n",
              "            <td>44164</td>\n",
              "            <td>11.0</td>\n",
              "        </tr>\n",
              "        <tr>\n",
              "            <td>26576</td>\n",
              "            <td>33.0</td>\n",
              "        </tr>\n",
              "        <tr>\n",
              "            <td>21323</td>\n",
              "            <td>53.0</td>\n",
              "        </tr>\n",
              "        <tr>\n",
              "            <td>24336</td>\n",
              "            <td>35.0</td>\n",
              "        </tr>\n",
              "        <tr>\n",
              "            <td>27249</td>\n",
              "            <td>34.0</td>\n",
              "        </tr>\n",
              "        <tr>\n",
              "            <td>26282</td>\n",
              "            <td>28.0</td>\n",
              "        </tr>\n",
              "        <tr>\n",
              "            <td>22014</td>\n",
              "            <td>50.0</td>\n",
              "        </tr>\n",
              "        <tr>\n",
              "            <td>15461</td>\n",
              "            <td>70.0</td>\n",
              "        </tr>\n",
              "        <tr>\n",
              "            <td>15089</td>\n",
              "            <td>71.0</td>\n",
              "        </tr>\n",
              "        <tr>\n",
              "            <td>20039</td>\n",
              "            <td>42.0</td>\n",
              "        </tr>\n",
              "        <tr>\n",
              "            <td>31908</td>\n",
              "            <td>23.0</td>\n",
              "        </tr>\n",
              "        <tr>\n",
              "            <td>13781</td>\n",
              "            <td>85.0</td>\n",
              "        </tr>\n",
              "        <tr>\n",
              "            <td>43198</td>\n",
              "            <td>10.0</td>\n",
              "        </tr>\n",
              "        <tr>\n",
              "            <td>15957</td>\n",
              "            <td>73.0</td>\n",
              "        </tr>\n",
              "        <tr>\n",
              "            <td>10934</td>\n",
              "            <td>92.0</td>\n",
              "        </tr>\n",
              "        <tr>\n",
              "            <td>12961</td>\n",
              "            <td>83.0</td>\n",
              "        </tr>\n",
              "        <tr>\n",
              "            <td>44689</td>\n",
              "            <td>15.0</td>\n",
              "        </tr>\n",
              "        <tr>\n",
              "            <td>12034</td>\n",
              "            <td>87.0</td>\n",
              "        </tr>\n",
              "        <tr>\n",
              "            <td>10402</td>\n",
              "            <td>96.0</td>\n",
              "        </tr>\n",
              "        <tr>\n",
              "            <td>16444</td>\n",
              "            <td>76.0</td>\n",
              "        </tr>\n",
              "        <tr>\n",
              "            <td>65526</td>\n",
              "            <td>3.0</td>\n",
              "        </tr>\n",
              "        <tr>\n",
              "            <td>59077</td>\n",
              "            <td>7.0</td>\n",
              "        </tr>\n",
              "        <tr>\n",
              "            <td>16148</td>\n",
              "            <td>82.0</td>\n",
              "        </tr>\n",
              "        <tr>\n",
              "            <td>23791</td>\n",
              "            <td>47.0</td>\n",
              "        </tr>\n",
              "        <tr>\n",
              "            <td>19252</td>\n",
              "            <td>78.0</td>\n",
              "        </tr>\n",
              "        <tr>\n",
              "            <td>10432</td>\n",
              "            <td>97.0</td>\n",
              "        </tr>\n",
              "        <tr>\n",
              "            <td>23472</td>\n",
              "            <td>57.0</td>\n",
              "        </tr>\n",
              "        <tr>\n",
              "            <td>35911</td>\n",
              "            <td>26.0</td>\n",
              "        </tr>\n",
              "        <tr>\n",
              "            <td>13785</td>\n",
              "            <td>88.0</td>\n",
              "        </tr>\n",
              "        <tr>\n",
              "            <td>39056</td>\n",
              "            <td>14.0</td>\n",
              "        </tr>\n",
              "        <tr>\n",
              "            <td>18672</td>\n",
              "            <td>58.0</td>\n",
              "        </tr>\n",
              "        <tr>\n",
              "            <td>19398</td>\n",
              "            <td>55.0</td>\n",
              "        </tr>\n",
              "        <tr>\n",
              "            <td>18881</td>\n",
              "            <td>60.0</td>\n",
              "        </tr>\n",
              "        <tr>\n",
              "            <td>24454</td>\n",
              "            <td>41.0</td>\n",
              "        </tr>\n",
              "        <tr>\n",
              "            <td>16579</td>\n",
              "            <td>75.0</td>\n",
              "        </tr>\n",
              "        <tr>\n",
              "            <td>12515</td>\n",
              "            <td>79.0</td>\n",
              "        </tr>\n",
              "        <tr>\n",
              "            <td>28887</td>\n",
              "            <td>38.0</td>\n",
              "        </tr>\n",
              "        <tr>\n",
              "            <td>17949</td>\n",
              "            <td>52.0</td>\n",
              "        </tr>\n",
              "        <tr>\n",
              "            <td>20588</td>\n",
              "            <td>51.0</td>\n",
              "        </tr>\n",
              "        <tr>\n",
              "            <td>14685</td>\n",
              "            <td>65.0</td>\n",
              "        </tr>\n",
              "        <tr>\n",
              "            <td>17104</td>\n",
              "            <td>64.0</td>\n",
              "        </tr>\n",
              "        <tr>\n",
              "            <td>16563</td>\n",
              "            <td>62.0</td>\n",
              "        </tr>\n",
              "        <tr>\n",
              "            <td>8201</td>\n",
              "            <td>98.0</td>\n",
              "        </tr>\n",
              "        <tr>\n",
              "            <td>22677</td>\n",
              "            <td>44.0</td>\n",
              "        </tr>\n",
              "        <tr>\n",
              "            <td>26353</td>\n",
              "            <td>32.0</td>\n",
              "        </tr>\n",
              "        <tr>\n",
              "            <td>16134</td>\n",
              "            <td>67.0</td>\n",
              "        </tr>\n",
              "        <tr>\n",
              "            <td>13089</td>\n",
              "            <td>84.0</td>\n",
              "        </tr>\n",
              "        <tr>\n",
              "            <td>16954</td>\n",
              "            <td>61.0</td>\n",
              "        </tr>\n",
              "        <tr>\n",
              "            <td>22694</td>\n",
              "            <td>43.0</td>\n",
              "        </tr>\n",
              "        <tr>\n",
              "            <td>12765</td>\n",
              "            <td>91.0</td>\n",
              "        </tr>\n",
              "        <tr>\n",
              "            <td>15754</td>\n",
              "            <td>69.0</td>\n",
              "        </tr>\n",
              "        <tr>\n",
              "            <td>12171</td>\n",
              "            <td>93.0</td>\n",
              "        </tr>\n",
              "        <tr>\n",
              "            <td>25113</td>\n",
              "            <td>29.0</td>\n",
              "        </tr>\n",
              "        <tr>\n",
              "            <td>16907</td>\n",
              "            <td>56.0</td>\n",
              "        </tr>\n",
              "        <tr>\n",
              "            <td>13231</td>\n",
              "            <td>80.0</td>\n",
              "        </tr>\n",
              "        <tr>\n",
              "            <td>11317</td>\n",
              "            <td>89.0</td>\n",
              "        </tr>\n",
              "        <tr>\n",
              "            <td>11888</td>\n",
              "            <td>94.0</td>\n",
              "        </tr>\n",
              "        <tr>\n",
              "            <td>17285</td>\n",
              "            <td>66.0</td>\n",
              "        </tr>\n",
              "        <tr>\n",
              "            <td>23482</td>\n",
              "            <td>37.0</td>\n",
              "        </tr>\n",
              "        <tr>\n",
              "            <td>15528</td>\n",
              "            <td>74.0</td>\n",
              "        </tr>\n",
              "        <tr>\n",
              "            <td>39523</td>\n",
              "            <td>12.0</td>\n",
              "        </tr>\n",
              "        <tr>\n",
              "            <td>19713</td>\n",
              "            <td>48.0</td>\n",
              "        </tr>\n",
              "        <tr>\n",
              "            <td>34381</td>\n",
              "            <td>16.0</td>\n",
              "        </tr>\n",
              "        <tr>\n",
              "            <td>27149</td>\n",
              "            <td>30.0</td>\n",
              "        </tr>\n",
              "        <tr>\n",
              "            <td>25828</td>\n",
              "            <td>24.0</td>\n",
              "        </tr>\n",
              "        <tr>\n",
              "            <td>33385</td>\n",
              "            <td>19.0</td>\n",
              "        </tr>\n",
              "        <tr>\n",
              "            <td>28202</td>\n",
              "            <td>None</td>\n",
              "        </tr>\n",
              "    </tbody>\n",
              "</table>"
            ]
          },
          "metadata": {},
          "execution_count": 42
        }
      ]
    },
    {
      "cell_type": "code",
      "source": [
        "#there is a null, 'NONE' value in the hardship_index"
      ],
      "metadata": {
        "id": "cJMLEu2XixPA"
      },
      "execution_count": null,
      "outputs": []
    },
    {
      "cell_type": "code",
      "source": [
        "plot = sns.jointplot(x='per_capita_income_', y='hardship_index', data=income_vs_hardship.DataFrame())\n",
        "# DataFrame should be written as Capital 'D' and 'F'"
      ],
      "metadata": {
        "colab": {
          "base_uri": "https://localhost:8080/",
          "height": 441
        },
        "id": "S34g5aJOi1Ur",
        "outputId": "2e4302d8-8fd7-419b-9c09-3147d9890f3f"
      },
      "execution_count": null,
      "outputs": [
        {
          "output_type": "display_data",
          "data": {
            "text/plain": [
              "<Figure size 432x432 with 3 Axes>"
            ],
            "image/png": "[encoded data removed]"
          },
          "metadata": {
            "needs_background": "light"
          }
        }
      ]
    },
    {
      "cell_type": "code",
      "source": [
        "plot = sns.boxplot(x='per_capita_income_', y='hardship_index', data=income_vs_hardship.DataFrame())"
      ],
      "metadata": {
        "colab": {
          "base_uri": "https://localhost:8080/",
          "height": 280
        },
        "id": "R6SSaLfytPvV",
        "outputId": "803ef06f-f3bc-4fe3-bb57-d0b1b0734956"
      },
      "execution_count": null,
      "outputs": [
        {
          "output_type": "display_data",
          "data": {
            "text/plain": [
              "<Figure size 432x288 with 1 Axes>"
            ],
            "image/png": "[encoded data removed]"
          },
          "metadata": {
            "needs_background": "light"
          }
        }
      ]
    }
  ]
}