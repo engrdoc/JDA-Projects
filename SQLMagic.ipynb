{
  "nbformat": 4,
  "nbformat_minor": 0,
  "metadata": {
    "colab": {
      "provenance": [],
      "authorship_tag": "ABX9TyOtxVTQxYl9IMUkZJHUvTHT",
      "include_colab_link": true
    },
    "kernelspec": {
      "name": "python3",
      "display_name": "Python 3"
    },
    "language_info": {
      "name": "python"
    }
  },
  "cells": [
    {
      "cell_type": "markdown",
      "metadata": {
        "id": "view-in-github",
        "colab_type": "text"
      },
      "source": [
        "<a href=\"https://colab.research.google.com/github/engrdoc/JDA-Projects/blob/main/SQLMagic.ipynb\" target=\"_parent\"><img src=\"https://colab.research.google.com/assets/colab-badge.svg\" alt=\"Open In Colab\"/></a>"
      ]
    },
    {
      "cell_type": "code",
      "execution_count": null,
      "metadata": {
        "id": "jUTIi6FurpFt"
      },
      "outputs": [],
      "source": [
        "# These libraries are pre-installed in SN Labs. If running in another environment please uncomment lines below to install them:\n",
        "# !pip install --force-reinstall ibm_db==3.1.0 ibm_db_sa==0.3.3\n",
        "# Ensure we don't load_ext with sqlalchemy>=1.4 (incompadible)\n",
        "# !pip uninstall sqlalchemy==1.4 -y && pip install sqlalchemy==1.3.24\n",
        "# !pip install ipython-sql"
      ]
    },
    {
      "cell_type": "code",
      "source": [
        "'''\n",
        "Virali's notes:\n",
        "!pip install sqlalchemy\n",
        "!pip install ibm_db_sa\n",
        "!pip install sqlalchemy==1.3.9\n",
        "!pip install ibm_db_sa\n",
        "!pip install ipython-sql \n",
        "'''"
      ],
      "metadata": {
        "colab": {
          "base_uri": "https://localhost:8080/",
          "height": 36
        },
        "id": "E5ctIqPZtxKi",
        "outputId": "8a4cbc79-dbf7-425c-d1b6-75343df3265e"
      },
      "execution_count": null,
      "outputs": [
        {
          "output_type": "execute_result",
          "data": {
            "text/plain": [
              "\"\\nVirali's notes:\\n!pip install sqlalchemy\\n!pip install ibm_db_sa\\n!pip install sqlalchemy==1.3.9\\n!pip install ibm_db_sa\\n!pip install ipython-sql \\n\""
            ],
            "application/vnd.google.colaboratory.intrinsic+json": {
              "type": "string"
            }
          },
          "metadata": {},
          "execution_count": 2
        }
      ]
    },
    {
      "cell_type": "code",
      "source": [
        "!pip install --force-reinstall ibm_db==3.1.0 ibm_db_sa==0.3.3\n",
        "!pip uninstall sqlalchemy==1.4 -y && pip install sqlalchemy==1.3.24\n",
        "!pip install ipython-sql"
      ],
      "metadata": {
        "colab": {
          "base_uri": "https://localhost:8080/"
        },
        "id": "jBv7nJlPtPIA",
        "outputId": "5e845b1c-8e98-4bec-de4a-3ff41c7d869a"
      },
      "execution_count": null,
      "outputs": [
        {
          "output_type": "stream",
          "name": "stdout",
          "text": [
            "Looking in indexes: https://pypi.org/simple, https://us-python.pkg.dev/colab-wheels/public/simple/\n",
            "Collecting ibm_db==3.1.0\n",
            "  Using cached ibm_db-3.1.0-cp37-cp37m-linux_x86_64.whl\n",
            "Collecting ibm_db_sa==0.3.3\n",
            "  Using cached ibm_db_sa-0.3.3-py3-none-any.whl\n",
            "Collecting sqlalchemy>=0.7.3\n",
            "  Using cached SQLAlchemy-1.4.39-cp37-cp37m-manylinux_2_5_x86_64.manylinux1_x86_64.manylinux_2_17_x86_64.manylinux2014_x86_64.whl (1.6 MB)\n",
            "Collecting importlib-metadata\n",
            "  Using cached importlib_metadata-4.12.0-py3-none-any.whl (21 kB)\n",
            "Collecting greenlet!=0.4.17\n",
            "  Using cached greenlet-1.1.2-cp37-cp37m-manylinux_2_17_x86_64.manylinux2014_x86_64.whl (150 kB)\n",
            "Collecting zipp>=0.5\n",
            "  Using cached zipp-3.8.1-py3-none-any.whl (5.6 kB)\n",
            "Collecting typing-extensions>=3.6.4\n",
            "  Using cached typing_extensions-4.3.0-py3-none-any.whl (25 kB)\n",
            "Installing collected packages: zipp, typing-extensions, importlib-metadata, greenlet, sqlalchemy, ibm-db-sa, ibm-db\n",
            "  Attempting uninstall: zipp\n",
            "    Found existing installation: zipp 3.8.1\n",
            "    Uninstalling zipp-3.8.1:\n",
            "      Successfully uninstalled zipp-3.8.1\n",
            "  Attempting uninstall: typing-extensions\n",
            "    Found existing installation: typing-extensions 4.3.0\n",
            "    Uninstalling typing-extensions-4.3.0:\n",
            "      Successfully uninstalled typing-extensions-4.3.0\n",
            "  Attempting uninstall: importlib-metadata\n",
            "    Found existing installation: importlib-metadata 4.12.0\n",
            "    Uninstalling importlib-metadata-4.12.0:\n",
            "      Successfully uninstalled importlib-metadata-4.12.0\n",
            "  Attempting uninstall: greenlet\n",
            "    Found existing installation: greenlet 1.1.2\n",
            "    Uninstalling greenlet-1.1.2:\n",
            "      Successfully uninstalled greenlet-1.1.2\n",
            "  Attempting uninstall: sqlalchemy\n",
            "    Found existing installation: SQLAlchemy 1.3.9\n",
            "    Uninstalling SQLAlchemy-1.3.9:\n",
            "      Successfully uninstalled SQLAlchemy-1.3.9\n",
            "  Attempting uninstall: ibm-db-sa\n",
            "    Found existing installation: ibm-db-sa 0.3.3\n",
            "    Uninstalling ibm-db-sa-0.3.3:\n",
            "      Successfully uninstalled ibm-db-sa-0.3.3\n",
            "  Attempting uninstall: ibm-db\n",
            "    Found existing installation: ibm-db 3.1.0\n",
            "    Uninstalling ibm-db-3.1.0:\n",
            "      Successfully uninstalled ibm-db-3.1.0\n",
            "\u001b[31mERROR: pip's dependency resolver does not currently take into account all the packages that are installed. This behaviour is the source of the following dependency conflicts.\n",
            "thinc 8.1.0 requires typing-extensions<4.2.0,>=3.7.4.1; python_version < \"3.8\", but you have typing-extensions 4.3.0 which is incompatible.\n",
            "spacy 3.4.0 requires typing-extensions<4.2.0,>=3.7.4; python_version < \"3.8\", but you have typing-extensions 4.3.0 which is incompatible.\u001b[0m\n",
            "Successfully installed greenlet-1.1.2 ibm-db-3.1.0 ibm-db-sa-0.3.3 importlib-metadata-4.12.0 sqlalchemy-1.4.39 typing-extensions-4.3.0 zipp-3.8.1\n",
            "Found existing installation: SQLAlchemy 1.4.39\n",
            "Uninstalling SQLAlchemy-1.4.39:\n",
            "  Successfully uninstalled SQLAlchemy-1.4.39\n",
            "Looking in indexes: https://pypi.org/simple, https://us-python.pkg.dev/colab-wheels/public/simple/\n",
            "Collecting sqlalchemy==1.3.24\n",
            "  Using cached SQLAlchemy-1.3.24-cp37-cp37m-manylinux2010_x86_64.whl (1.3 MB)\n",
            "Installing collected packages: sqlalchemy\n",
            "Successfully installed sqlalchemy-1.3.24\n",
            "Looking in indexes: https://pypi.org/simple, https://us-python.pkg.dev/colab-wheels/public/simple/\n",
            "Requirement already satisfied: ipython-sql in /usr/local/lib/python3.7/dist-packages (0.3.9)\n",
            "Requirement already satisfied: ipython-genutils>=0.1.0 in /usr/local/lib/python3.7/dist-packages (from ipython-sql) (0.2.0)\n",
            "Requirement already satisfied: prettytable in /usr/local/lib/python3.7/dist-packages (from ipython-sql) (3.3.0)\n",
            "Requirement already satisfied: ipython>=1.0 in /usr/local/lib/python3.7/dist-packages (from ipython-sql) (5.5.0)\n",
            "Requirement already satisfied: six in /usr/local/lib/python3.7/dist-packages (from ipython-sql) (1.15.0)\n",
            "Requirement already satisfied: sqlalchemy>=0.6.7 in /usr/local/lib/python3.7/dist-packages (from ipython-sql) (1.3.24)\n",
            "Requirement already satisfied: sqlparse in /usr/local/lib/python3.7/dist-packages (from ipython-sql) (0.4.2)\n",
            "Requirement already satisfied: decorator in /usr/local/lib/python3.7/dist-packages (from ipython>=1.0->ipython-sql) (4.4.2)\n",
            "Requirement already satisfied: simplegeneric>0.8 in /usr/local/lib/python3.7/dist-packages (from ipython>=1.0->ipython-sql) (0.8.1)\n",
            "Requirement already satisfied: pexpect in /usr/local/lib/python3.7/dist-packages (from ipython>=1.0->ipython-sql) (4.8.0)\n",
            "Requirement already satisfied: pygments in /usr/local/lib/python3.7/dist-packages (from ipython>=1.0->ipython-sql) (2.6.1)\n",
            "Requirement already satisfied: setuptools>=18.5 in /usr/local/lib/python3.7/dist-packages (from ipython>=1.0->ipython-sql) (57.4.0)\n",
            "Requirement already satisfied: pickleshare in /usr/local/lib/python3.7/dist-packages (from ipython>=1.0->ipython-sql) (0.7.5)\n",
            "Requirement already satisfied: prompt-toolkit<2.0.0,>=1.0.4 in /usr/local/lib/python3.7/dist-packages (from ipython>=1.0->ipython-sql) (1.0.18)\n",
            "Requirement already satisfied: traitlets>=4.2 in /usr/local/lib/python3.7/dist-packages (from ipython>=1.0->ipython-sql) (5.1.1)\n",
            "Requirement already satisfied: wcwidth in /usr/local/lib/python3.7/dist-packages (from prompt-toolkit<2.0.0,>=1.0.4->ipython>=1.0->ipython-sql) (0.2.5)\n",
            "Requirement already satisfied: ptyprocess>=0.5 in /usr/local/lib/python3.7/dist-packages (from pexpect->ipython>=1.0->ipython-sql) (0.7.0)\n",
            "Requirement already satisfied: importlib-metadata in /usr/local/lib/python3.7/dist-packages (from prettytable->ipython-sql) (4.12.0)\n",
            "Requirement already satisfied: typing-extensions>=3.6.4 in /usr/local/lib/python3.7/dist-packages (from importlib-metadata->prettytable->ipython-sql) (4.3.0)\n",
            "Requirement already satisfied: zipp>=0.5 in /usr/local/lib/python3.7/dist-packages (from importlib-metadata->prettytable->ipython-sql) (3.8.1)\n"
          ]
        }
      ]
    },
    {
      "cell_type": "code",
      "source": [
        "!pip install sqlalchemy\n",
        "!pip install ibm_db_sa\n",
        "!pip install sqlalchemy==1.3.9\n",
        "!pip install ibm_db_sa\n",
        "!pip install ipython-sql "
      ],
      "metadata": {
        "colab": {
          "base_uri": "https://localhost:8080/"
        },
        "id": "D2UuwTddvgiK",
        "outputId": "31012dab-192f-4ee6-a2b9-45e53124699c"
      },
      "execution_count": null,
      "outputs": [
        {
          "output_type": "stream",
          "name": "stdout",
          "text": [
            "Looking in indexes: https://pypi.org/simple, https://us-python.pkg.dev/colab-wheels/public/simple/\n",
            "Requirement already satisfied: sqlalchemy in /usr/local/lib/python3.7/dist-packages (1.3.24)\n",
            "Looking in indexes: https://pypi.org/simple, https://us-python.pkg.dev/colab-wheels/public/simple/\n",
            "Requirement already satisfied: ibm_db_sa in /usr/local/lib/python3.7/dist-packages (0.3.3)\n",
            "Requirement already satisfied: sqlalchemy>=0.7.3 in /usr/local/lib/python3.7/dist-packages (from ibm_db_sa) (1.3.24)\n",
            "Looking in indexes: https://pypi.org/simple, https://us-python.pkg.dev/colab-wheels/public/simple/\n",
            "Collecting sqlalchemy==1.3.9\n",
            "  Using cached SQLAlchemy-1.3.9-cp37-cp37m-linux_x86_64.whl\n",
            "Installing collected packages: sqlalchemy\n",
            "  Attempting uninstall: sqlalchemy\n",
            "    Found existing installation: SQLAlchemy 1.3.24\n",
            "    Uninstalling SQLAlchemy-1.3.24:\n",
            "      Successfully uninstalled SQLAlchemy-1.3.24\n",
            "Successfully installed sqlalchemy-1.3.9\n",
            "Looking in indexes: https://pypi.org/simple, https://us-python.pkg.dev/colab-wheels/public/simple/\n",
            "Requirement already satisfied: ibm_db_sa in /usr/local/lib/python3.7/dist-packages (0.3.3)\n",
            "Requirement already satisfied: sqlalchemy>=0.7.3 in /usr/local/lib/python3.7/dist-packages (from ibm_db_sa) (1.3.9)\n",
            "Looking in indexes: https://pypi.org/simple, https://us-python.pkg.dev/colab-wheels/public/simple/\n",
            "Requirement already satisfied: ipython-sql in /usr/local/lib/python3.7/dist-packages (0.3.9)\n",
            "Requirement already satisfied: sqlalchemy>=0.6.7 in /usr/local/lib/python3.7/dist-packages (from ipython-sql) (1.3.9)\n",
            "Requirement already satisfied: ipython-genutils>=0.1.0 in /usr/local/lib/python3.7/dist-packages (from ipython-sql) (0.2.0)\n",
            "Requirement already satisfied: sqlparse in /usr/local/lib/python3.7/dist-packages (from ipython-sql) (0.4.2)\n",
            "Requirement already satisfied: six in /usr/local/lib/python3.7/dist-packages (from ipython-sql) (1.15.0)\n",
            "Requirement already satisfied: ipython>=1.0 in /usr/local/lib/python3.7/dist-packages (from ipython-sql) (5.5.0)\n",
            "Requirement already satisfied: prettytable in /usr/local/lib/python3.7/dist-packages (from ipython-sql) (3.3.0)\n",
            "Requirement already satisfied: decorator in /usr/local/lib/python3.7/dist-packages (from ipython>=1.0->ipython-sql) (4.4.2)\n",
            "Requirement already satisfied: traitlets>=4.2 in /usr/local/lib/python3.7/dist-packages (from ipython>=1.0->ipython-sql) (5.1.1)\n",
            "Requirement already satisfied: setuptools>=18.5 in /usr/local/lib/python3.7/dist-packages (from ipython>=1.0->ipython-sql) (57.4.0)\n",
            "Requirement already satisfied: pickleshare in /usr/local/lib/python3.7/dist-packages (from ipython>=1.0->ipython-sql) (0.7.5)\n",
            "Requirement already satisfied: pygments in /usr/local/lib/python3.7/dist-packages (from ipython>=1.0->ipython-sql) (2.6.1)\n",
            "Requirement already satisfied: pexpect in /usr/local/lib/python3.7/dist-packages (from ipython>=1.0->ipython-sql) (4.8.0)\n",
            "Requirement already satisfied: prompt-toolkit<2.0.0,>=1.0.4 in /usr/local/lib/python3.7/dist-packages (from ipython>=1.0->ipython-sql) (1.0.18)\n",
            "Requirement already satisfied: simplegeneric>0.8 in /usr/local/lib/python3.7/dist-packages (from ipython>=1.0->ipython-sql) (0.8.1)\n",
            "Requirement already satisfied: wcwidth in /usr/local/lib/python3.7/dist-packages (from prompt-toolkit<2.0.0,>=1.0.4->ipython>=1.0->ipython-sql) (0.2.5)\n",
            "Requirement already satisfied: ptyprocess>=0.5 in /usr/local/lib/python3.7/dist-packages (from pexpect->ipython>=1.0->ipython-sql) (0.7.0)\n",
            "Requirement already satisfied: importlib-metadata in /usr/local/lib/python3.7/dist-packages (from prettytable->ipython-sql) (4.12.0)\n",
            "Requirement already satisfied: typing-extensions>=3.6.4 in /usr/local/lib/python3.7/dist-packages (from importlib-metadata->prettytable->ipython-sql) (4.3.0)\n",
            "Requirement already satisfied: zipp>=0.5 in /usr/local/lib/python3.7/dist-packages (from importlib-metadata->prettytable->ipython-sql) (3.8.1)\n"
          ]
        }
      ]
    },
    {
      "cell_type": "code",
      "source": [
        "%load_ext sql"
      ],
      "metadata": {
        "id": "JhE1qQESrzPN"
      },
      "execution_count": null,
      "outputs": []
    },
    {
      "cell_type": "code",
      "source": [
        "'''\n",
        "Now we have access to SQL magic. With our first SQL magic command, we'll connect to a Db2 database. \n",
        "However, in order to do that, you'll first need to retrieve or create your credentials to access your Db2 database.\n",
        "'''"
      ],
      "metadata": {
        "colab": {
          "base_uri": "https://localhost:8080/",
          "height": 55
        },
        "id": "PJZrxsdvr7jw",
        "outputId": "a96082f3-20b7-41c9-89c2-485810ea7b9b"
      },
      "execution_count": null,
      "outputs": [
        {
          "output_type": "execute_result",
          "data": {
            "text/plain": [
              "\"\\nNow we have access to SQL magic. With our first SQL magic command, we'll connect to a Db2 database. \\nHowever, in order to do that, you'll first need to retrieve or create your credentials to access your Db2 database.\\n\""
            ],
            "application/vnd.google.colaboratory.intrinsic+json": {
              "type": "string"
            }
          },
          "metadata": {},
          "execution_count": 6
        }
      ]
    },
    {
      "cell_type": "code",
      "source": [
        "# Enter your Db2 credentials in the connection string below\n",
        "# Recall you created Service Credentials in Part III of the first lab of the course in Week 1\n",
        "# i.e. from the uri field in the Service Credentials copy everything after db2:// (but remove the double quote at the end)\n",
        "# for example, if your credentials are as in the screenshot above, you would write:\n",
        "'''%sql ibm_db_sa://my-username:my-password@hostname:port/BLUDB?security=SSL'''\n",
        "# Note the ibm_db_sa:// prefix instead of db2://\n",
        "# This is because JupyterLab's ipython-sql extension uses sqlalchemy (a python SQL toolkit)\n",
        "# which in turn uses IBM's sqlalchemy dialect: ibm_db_sa\n",
        "\n",
        "%sql ibm_db_sa://nck40771:4bZRA8idzeQG0b5b@1bbf73c5-d84a-4bb0-85b9-ab1a4348f4a4.c3n41cmd0nqnrk39u98g.databases.appdomain.cloud:32286/BLUDB?security=SSL"
      ],
      "metadata": {
        "colab": {
          "base_uri": "https://localhost:8080/",
          "height": 36
        },
        "id": "CS5P_bvvsBjS",
        "outputId": "cba381cc-a585-4966-ff8d-2eecd1c86187"
      },
      "execution_count": null,
      "outputs": [
        {
          "output_type": "execute_result",
          "data": {
            "text/plain": [
              "'Connected: nck40771@BLUDB'"
            ],
            "application/vnd.google.colaboratory.intrinsic+json": {
              "type": "string"
            }
          },
          "metadata": {},
          "execution_count": 7
        }
      ]
    },
    {
      "cell_type": "code",
      "source": [
        "'''\n",
        "For convenience, we can use %%sql (two %'s instead of one) at the top of a cell to indicate we want the entire cell to be treated as SQL. \n",
        "Let's use this to create a table and fill it with some test data for experimenting.¶\n",
        "'''"
      ],
      "metadata": {
        "colab": {
          "base_uri": "https://localhost:8080/",
          "height": 55
        },
        "id": "cvuxIGI1sCSr",
        "outputId": "09bc2e61-a7d4-4c75-f057-8144e40c43a0"
      },
      "execution_count": null,
      "outputs": [
        {
          "output_type": "execute_result",
          "data": {
            "text/plain": [
              "\"\\nFor convenience, we can use %%sql (two %'s instead of one) at the top of a cell to indicate we want the entire cell to be treated as SQL. \\nLet's use this to create a table and fill it with some test data for experimenting.¶\\n\""
            ],
            "application/vnd.google.colaboratory.intrinsic+json": {
              "type": "string"
            }
          },
          "metadata": {},
          "execution_count": 8
        }
      ]
    },
    {
      "cell_type": "code",
      "source": [
        "%%sql\n",
        "\n",
        "CREATE TABLE INTERNATIONAL_STUDENT_EXAM_SCORES (\n",
        "\tcountry VARCHAR(50),\n",
        "\tfirst_name VARCHAR(50),\n",
        "\tlast_name VARCHAR(50),\n",
        "\ttest_score INT\n",
        ");\n",
        "INSERT INTO INTERNATIONAL_STUDENT_EXAM_SCORES (country, first_name, last_name, test_score)\n",
        "VALUES\n",
        "('United States', 'Marshall', 'Bernadot', 54),\n",
        "('Ghana', 'Celinda', 'Malkin', 51),\n",
        "('Ukraine', 'Guillermo', 'Furze', 53),\n",
        "('Greece', 'Aharon', 'Tunnow', 48),\n",
        "('Russia', 'Bail', 'Goodwin', 46),\n",
        "('Poland', 'Cole', 'Winteringham', 49),\n",
        "('Sweden', 'Emlyn', 'Erricker', 55),\n",
        "('Russia', 'Cathee', 'Sivewright', 49),\n",
        "('China', 'Barny', 'Ingerson', 57),\n",
        "('Uganda', 'Sharla', 'Papaccio', 55),\n",
        "('China', 'Stella', 'Youens', 51),\n",
        "('Poland', 'Julio', 'Buesden', 48),\n",
        "('United States', 'Tiffie', 'Cosely', 58),\n",
        "('Poland', 'Auroora', 'Stiffell', 45),\n",
        "('China', 'Clarita', 'Huet', 52),\n",
        "('Poland', 'Shannon', 'Goulden', 45),\n",
        "('Philippines', 'Emylee', 'Privost', 50),\n",
        "('France', 'Madelina', 'Burk', 49),\n",
        "('China', 'Saunderson', 'Root', 58),\n",
        "('Indonesia', 'Bo', 'Waring', 55),\n",
        "('China', 'Hollis', 'Domotor', 45),\n",
        "('Russia', 'Robbie', 'Collip', 46),\n",
        "('Philippines', 'Davon', 'Donisi', 46),\n",
        "('China', 'Cristabel', 'Radeliffe', 48),\n",
        "('China', 'Wallis', 'Bartleet', 58),\n",
        "('Moldova', 'Arleen', 'Stailey', 38),\n",
        "('Ireland', 'Mendel', 'Grumble', 58),\n",
        "('China', 'Sallyann', 'Exley', 51),\n",
        "('Mexico', 'Kain', 'Swaite', 46),\n",
        "('Indonesia', 'Alonso', 'Bulteel', 45),\n",
        "('Armenia', 'Anatol', 'Tankus', 51),\n",
        "('Indonesia', 'Coralyn', 'Dawkins', 48),\n",
        "('China', 'Deanne', 'Edwinson', 45),\n",
        "('China', 'Georgiana', 'Epple', 51),\n",
        "('Portugal', 'Bartlet', 'Breese', 56),\n",
        "('Azerbaijan', 'Idalina', 'Lukash', 50),\n",
        "('France', 'Livvie', 'Flory', 54),\n",
        "('Malaysia', 'Nonie', 'Borit', 48),\n",
        "('Indonesia', 'Clio', 'Mugg', 47),\n",
        "('Brazil', 'Westley', 'Measor', 48),\n",
        "('Philippines', 'Katrinka', 'Sibbert', 51),\n",
        "('Poland', 'Valentia', 'Mounch', 50),\n",
        "('Norway', 'Sheilah', 'Hedditch', 53),\n",
        "('Papua New Guinea', 'Itch', 'Jubb', 50),\n",
        "('Latvia', 'Stesha', 'Garnson', 53),\n",
        "('Canada', 'Cristionna', 'Wadmore', 46),\n",
        "('China', 'Lianna', 'Gatward', 43),\n",
        "('Guatemala', 'Tanney', 'Vials', 48),\n",
        "('France', 'Alma', 'Zavittieri', 44),\n",
        "('China', 'Alvira', 'Tamas', 50),\n",
        "('United States', 'Shanon', 'Peres', 45),\n",
        "('Sweden', 'Maisey', 'Lynas', 53),\n",
        "('Indonesia', 'Kip', 'Hothersall', 46),\n",
        "('China', 'Cash', 'Landis', 48),\n",
        "('Panama', 'Kennith', 'Digance', 45),\n",
        "('China', 'Ulberto', 'Riggeard', 48),\n",
        "('Switzerland', 'Judy', 'Gilligan', 49),\n",
        "('Philippines', 'Tod', 'Trevaskus', 52),\n",
        "('Brazil', 'Herold', 'Heggs', 44),\n",
        "('Latvia', 'Verney', 'Note', 50),\n",
        "('Poland', 'Temp', 'Ribey', 50),\n",
        "('China', 'Conroy', 'Egdal', 48),\n",
        "('Japan', 'Gabie', 'Alessandone', 47),\n",
        "('Ukraine', 'Devlen', 'Chaperlin', 54),\n",
        "('France', 'Babbette', 'Turner', 51),\n",
        "('Czech Republic', 'Virgil', 'Scotney', 52),\n",
        "('Tajikistan', 'Zorina', 'Bedow', 49),\n",
        "('China', 'Aidan', 'Rudeyeard', 50),\n",
        "('Ireland', 'Saunder', 'MacLice', 48),\n",
        "('France', 'Waly', 'Brunstan', 53),\n",
        "('China', 'Gisele', 'Enns', 52),\n",
        "('Peru', 'Mina', 'Winchester', 48),\n",
        "('Japan', 'Torie', 'MacShirrie', 50),\n",
        "('Russia', 'Benjamen', 'Kenford', 51),\n",
        "('China', 'Etan', 'Burn', 53),\n",
        "('Russia', 'Merralee', 'Chaperlin', 38),\n",
        "('Indonesia', 'Lanny', 'Malam', 49),\n",
        "('Canada', 'Wilhelm', 'Deeprose', 54),\n",
        "('Czech Republic', 'Lari', 'Hillhouse', 48),\n",
        "('China', 'Ossie', 'Woodley', 52),\n",
        "('Macedonia', 'April', 'Tyer', 50),\n",
        "('Vietnam', 'Madelon', 'Dansey', 53),\n",
        "('Ukraine', 'Korella', 'McNamee', 52),\n",
        "('Jamaica', 'Linnea', 'Cannam', 43),\n",
        "('China', 'Mart', 'Coling', 52),\n",
        "('Indonesia', 'Marna', 'Causbey', 47),\n",
        "('China', 'Berni', 'Daintier', 55),\n",
        "('Poland', 'Cynthia', 'Hassell', 49),\n",
        "('Canada', 'Carma', 'Schule', 49),\n",
        "('Indonesia', 'Malia', 'Blight', 48),\n",
        "('China', 'Paulo', 'Seivertsen', 47),\n",
        "('Niger', 'Kaylee', 'Hearley', 54),\n",
        "('Japan', 'Maure', 'Jandak', 46),\n",
        "('Argentina', 'Foss', 'Feavers', 45),\n",
        "('Venezuela', 'Ron', 'Leggitt', 60),\n",
        "('Russia', 'Flint', 'Gokes', 40),\n",
        "('China', 'Linet', 'Conelly', 52),\n",
        "('Philippines', 'Nikolas', 'Birtwell', 57),\n",
        "('Australia', 'Eduard', 'Leipelt', 53)\n"
      ],
      "metadata": {
        "colab": {
          "base_uri": "https://localhost:8080/"
        },
        "id": "VULvo54suTTW",
        "outputId": "7125760c-fe29-41eb-95f8-abb70693f636"
      },
      "execution_count": null,
      "outputs": [
        {
          "output_type": "stream",
          "name": "stdout",
          "text": [
            " * ibm_db_sa://nck40771:***@1bbf73c5-d84a-4bb0-85b9-ab1a4348f4a4.c3n41cmd0nqnrk39u98g.databases.appdomain.cloud:32286/BLUDB\n",
            "Done.\n",
            "99 rows affected.\n"
          ]
        },
        {
          "output_type": "execute_result",
          "data": {
            "text/plain": [
              "[]"
            ]
          },
          "metadata": {},
          "execution_count": 9
        }
      ]
    },
    {
      "cell_type": "code",
      "source": [
        "'''\n",
        "Using Python Variables in your SQL Statements\n",
        "You can use python variables in your SQL statements by adding a \":\" prefix to your python variable names.\n",
        "For example, if I have a python variable country with a value of \"Canada\", I can use this variable in a SQL query to find all the rows of students from Canada.\n",
        "country = \"Canada\"\n",
        "'''"
      ],
      "metadata": {
        "colab": {
          "base_uri": "https://localhost:8080/",
          "height": 55
        },
        "id": "rHg97pvAucwc",
        "outputId": "b6ce5a31-adb6-49ab-8160-74f308f90b2d"
      },
      "execution_count": null,
      "outputs": [
        {
          "output_type": "execute_result",
          "data": {
            "text/plain": [
              "'\\nUsing Python Variables in your SQL Statements\\nYou can use python variables in your SQL statements by adding a \":\" prefix to your python variable names.\\nFor example, if I have a python variable country with a value of \"Canada\", I can use this variable in a SQL query to find all the rows of students from Canada.\\ncountry = \"Canada\"\\n'"
            ],
            "application/vnd.google.colaboratory.intrinsic+json": {
              "type": "string"
            }
          },
          "metadata": {},
          "execution_count": 10
        }
      ]
    },
    {
      "cell_type": "code",
      "source": [
        "country = \"Canada\"\n",
        "%sql select * from INTERNATIONAL_STUDENT_EXAM_SCORES where country = :country"
      ],
      "metadata": {
        "colab": {
          "base_uri": "https://localhost:8080/",
          "height": 137
        },
        "id": "4Nuc2aDhuusw",
        "outputId": "a727ae29-d43f-4167-e4ee-d1ef3e7f58d1"
      },
      "execution_count": null,
      "outputs": [
        {
          "output_type": "stream",
          "name": "stdout",
          "text": [
            " * ibm_db_sa://nck40771:***@1bbf73c5-d84a-4bb0-85b9-ab1a4348f4a4.c3n41cmd0nqnrk39u98g.databases.appdomain.cloud:32286/BLUDB\n",
            "Done.\n"
          ]
        },
        {
          "output_type": "execute_result",
          "data": {
            "text/plain": [
              "[('Canada', 'Cristionna', 'Wadmore', 46),\n",
              " ('Canada', 'Wilhelm', 'Deeprose', 54),\n",
              " ('Canada', 'Carma', 'Schule', 49)]"
            ],
            "text/html": [
              "<table>\n",
              "    <thead>\n",
              "        <tr>\n",
              "            <th>country</th>\n",
              "            <th>first_name</th>\n",
              "            <th>last_name</th>\n",
              "            <th>test_score</th>\n",
              "        </tr>\n",
              "    </thead>\n",
              "    <tbody>\n",
              "        <tr>\n",
              "            <td>Canada</td>\n",
              "            <td>Cristionna</td>\n",
              "            <td>Wadmore</td>\n",
              "            <td>46</td>\n",
              "        </tr>\n",
              "        <tr>\n",
              "            <td>Canada</td>\n",
              "            <td>Wilhelm</td>\n",
              "            <td>Deeprose</td>\n",
              "            <td>54</td>\n",
              "        </tr>\n",
              "        <tr>\n",
              "            <td>Canada</td>\n",
              "            <td>Carma</td>\n",
              "            <td>Schule</td>\n",
              "            <td>49</td>\n",
              "        </tr>\n",
              "    </tbody>\n",
              "</table>"
            ]
          },
          "metadata": {},
          "execution_count": 11
        }
      ]
    },
    {
      "cell_type": "code",
      "source": [
        "test_score_distribution = %sql SELECT test_score as \"Test Score\", count(*) as \"Frequency\" from INTERNATIONAL_STUDENT_EXAM_SCORES GROUP BY test_score;\n",
        "test_score_distribution"
      ],
      "metadata": {
        "colab": {
          "base_uri": "https://localhost:8080/",
          "height": 464
        },
        "id": "_sUKkg-E1P3q",
        "outputId": "474ec8e2-040b-4577-cb74-1f2a2136de21"
      },
      "execution_count": null,
      "outputs": [
        {
          "output_type": "stream",
          "name": "stdout",
          "text": [
            " * ibm_db_sa://nck40771:***@1bbf73c5-d84a-4bb0-85b9-ab1a4348f4a4.c3n41cmd0nqnrk39u98g.databases.appdomain.cloud:32286/BLUDB\n",
            "Done.\n"
          ]
        },
        {
          "output_type": "execute_result",
          "data": {
            "text/plain": [
              "[(38, 2),\n",
              " (40, 1),\n",
              " (43, 2),\n",
              " (44, 2),\n",
              " (45, 8),\n",
              " (46, 7),\n",
              " (47, 4),\n",
              " (48, 14),\n",
              " (49, 8),\n",
              " (50, 10),\n",
              " (51, 8),\n",
              " (52, 8),\n",
              " (53, 8),\n",
              " (54, 5),\n",
              " (55, 4),\n",
              " (56, 1),\n",
              " (57, 2),\n",
              " (58, 4),\n",
              " (60, 1)]"
            ],
            "text/html": [
              "<table>\n",
              "    <thead>\n",
              "        <tr>\n",
              "            <th>Test Score</th>\n",
              "            <th>Frequency</th>\n",
              "        </tr>\n",
              "    </thead>\n",
              "    <tbody>\n",
              "        <tr>\n",
              "            <td>38</td>\n",
              "            <td>2</td>\n",
              "        </tr>\n",
              "        <tr>\n",
              "            <td>40</td>\n",
              "            <td>1</td>\n",
              "        </tr>\n",
              "        <tr>\n",
              "            <td>43</td>\n",
              "            <td>2</td>\n",
              "        </tr>\n",
              "        <tr>\n",
              "            <td>44</td>\n",
              "            <td>2</td>\n",
              "        </tr>\n",
              "        <tr>\n",
              "            <td>45</td>\n",
              "            <td>8</td>\n",
              "        </tr>\n",
              "        <tr>\n",
              "            <td>46</td>\n",
              "            <td>7</td>\n",
              "        </tr>\n",
              "        <tr>\n",
              "            <td>47</td>\n",
              "            <td>4</td>\n",
              "        </tr>\n",
              "        <tr>\n",
              "            <td>48</td>\n",
              "            <td>14</td>\n",
              "        </tr>\n",
              "        <tr>\n",
              "            <td>49</td>\n",
              "            <td>8</td>\n",
              "        </tr>\n",
              "        <tr>\n",
              "            <td>50</td>\n",
              "            <td>10</td>\n",
              "        </tr>\n",
              "        <tr>\n",
              "            <td>51</td>\n",
              "            <td>8</td>\n",
              "        </tr>\n",
              "        <tr>\n",
              "            <td>52</td>\n",
              "            <td>8</td>\n",
              "        </tr>\n",
              "        <tr>\n",
              "            <td>53</td>\n",
              "            <td>8</td>\n",
              "        </tr>\n",
              "        <tr>\n",
              "            <td>54</td>\n",
              "            <td>5</td>\n",
              "        </tr>\n",
              "        <tr>\n",
              "            <td>55</td>\n",
              "            <td>4</td>\n",
              "        </tr>\n",
              "        <tr>\n",
              "            <td>56</td>\n",
              "            <td>1</td>\n",
              "        </tr>\n",
              "        <tr>\n",
              "            <td>57</td>\n",
              "            <td>2</td>\n",
              "        </tr>\n",
              "        <tr>\n",
              "            <td>58</td>\n",
              "            <td>4</td>\n",
              "        </tr>\n",
              "        <tr>\n",
              "            <td>60</td>\n",
              "            <td>1</td>\n",
              "        </tr>\n",
              "    </tbody>\n",
              "</table>"
            ]
          },
          "metadata": {},
          "execution_count": 12
        }
      ]
    },
    {
      "cell_type": "code",
      "source": [
        "dataframe = test_score_distribution.DataFrame()\n",
        "\n",
        "%matplotlib inline\n",
        "# uncomment the following line if you get an module error saying seaborn not found\n",
        "# !pip install seaborn==0.9.0\n",
        "import seaborn\n",
        "\n",
        "plot = seaborn.barplot(x='Test Score',y='Frequency', data=dataframe)"
      ],
      "metadata": {
        "colab": {
          "base_uri": "https://localhost:8080/",
          "height": 279
        },
        "id": "7PX8hsHI1XMN",
        "outputId": "b8f564ab-6486-4a77-e14b-3bf852b27fed"
      },
      "execution_count": null,
      "outputs": [
        {
          "output_type": "display_data",
          "data": {
            "text/plain": [
              "<Figure size 432x288 with 1 Axes>"
            ],
            "image/png": "[encoded data removed]"
          },
          "metadata": {
            "needs_background": "light"
          }
        }
      ]
    }
  ]
}